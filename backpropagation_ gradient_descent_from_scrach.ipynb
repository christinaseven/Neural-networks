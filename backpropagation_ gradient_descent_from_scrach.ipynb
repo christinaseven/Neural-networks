{
 "cells": [
  {
   "cell_type": "code",
   "execution_count": 2,
   "metadata": {},
   "outputs": [],
   "source": [
    "import numpy as np\n",
    "class MLP:\n",
    "    def __init__(self, num_inputs=3, num_hidden=[3,5], num_outputs=2):\n",
    "        self.num_inputs = num_inputs\n",
    "        self.num_hidden= num_hidden\n",
    "        self.num_outputs = num_outputs\n",
    "        #input layer, two hidden layers(one with 3 and then with 5 neurons)\n",
    "        layers = [self.num_inputs] + self.num_hidden + [self.num_outputs] #its gonna be [3,3,5,2]\n",
    "        #initiate random weights\n",
    "        self.weights = []\n",
    "        for i in range(len(layers)-1): #len(layers)=4 and we dont want to work for input layer\n",
    "            w = np.random.rand(layers[i], layers[i+1])\n",
    "            self.weights.append(w) #3 list-elements with all the weights\n",
    "        \n",
    "        #step 1:save the activations and derivatives\n",
    "\n",
    "        activations = []\n",
    "        for i in range(len(layers)): #from 0 to 3\n",
    "            a = np.zeros(layers[i])\n",
    "            activations.append(a)\n",
    "        self.activations = activations #the first activations are the inputs\n",
    "        \n",
    "        derivatives = []\n",
    "        for i in range(len(layers)-1): # from 0 to 2\n",
    "            a = np.zeros((layers[i], layers[i+1]))\n",
    "            derivatives.append(a)\n",
    "        self.derivatives = derivatives\n",
    "        \n",
    "        \n",
    "    def forward_propagate(self, inputs):\n",
    "        activations = inputs\n",
    "        self.activations[0]= inputs  # save the activations\n",
    "        \n",
    "        for i,w in enumerate(self.weights):\n",
    "            #calculate net inputs\n",
    "            net_inputs =  np.dot(activations, w)\n",
    "            #calculate the activations\n",
    "            activations = self._sigmoid(net_inputs)\n",
    "            self.activations[i+1] = activations\n",
    "            #print(\"activations:\", activations)\n",
    "        \n",
    "        return activations\n",
    "    \n",
    "    # step 2 : implement backpropagation\n",
    "    \n",
    "    def back_propagate(self, error, verbose= False):\n",
    "        \n",
    "        #dE/dw_i = (y -a[i+1])*σ'(h[i+1])*a_i \n",
    "        # σ'(h[i+1]) = σ(h[i+1])*(1-σ(h[i+1]))\n",
    "        # σ(h[i+1]) = α[i+1]\n",
    "        #dE/dw_(i-1) = (y -a[i+1])*σ'(h[i+1])*w_i* σ'(h_i)*a_(i-1) \n",
    "        \n",
    "        for i in reversed(range(len(self.derivatives))): #from 1 to 0\n",
    "            activations = self.activations[i+1]\n",
    "            delta = error * self._sigmoid_derivative(activations)\n",
    "            #we want reshape ndarray([0.1,0.2]) ----> ndarray([[0.1, 0.2]])\n",
    "            delta_reshaped =delta.reshape(delta.shape[0],-1).T\n",
    "            \n",
    "            current_activations = self.activations[i]\n",
    "            #we want reshape ndarray([0.1,0.2]) ----> ndarray([[0.1],[0.2]])\n",
    "            current_activations_reshaped = current_activations.reshape(current_activations.shape[0],-1)\n",
    "            self.derivatives[i] = np.dot(current_activations_reshaped, delta_reshaped)\n",
    "            error = np.dot(delta, self.weights[i].T)\n",
    "            \n",
    "            #if verbose:\n",
    "            #    print(\"Derivatives for W{}: {}\".format(i,self.derivatives[i]))\n",
    "        return error\n",
    "            \n",
    "        \n",
    "    # step 3 : gradient descent\n",
    "    def gradient_descent(self, lr):\n",
    "        for i in range(len(self.weights)):\n",
    "            weights = self.weights[i]\n",
    "            #print(\"Original w{} {}\".format(i , weights))\n",
    "            derivatives = self.derivatives[i]\n",
    "            weights += derivatives * lr\n",
    "            #print(\"Updated w{} {}\".format(i , weights))\n",
    "    \n",
    "    #step 4: training \n",
    "    def train(self, inputs, targets, epochs, lr):\n",
    "        for i in range(epochs):\n",
    "            sum_error = 0\n",
    "            for input, target in zip(inputs, targets):\n",
    "                \n",
    "                #forward propagation\n",
    "                output =self.forward_propagate(input)\n",
    "                \n",
    "                #calculate error\n",
    "                error = target - output\n",
    "                \n",
    "                #back propagation\n",
    "                self.back_propagate(error)\n",
    "                \n",
    "                #apply gradient descent\n",
    "                self.gradient_descent(lr=1)\n",
    "                \n",
    "                sum_error += self._mse(target, output)\n",
    "                \n",
    "            # report error\n",
    "            print(\"Error: {} at epoch {}\".format((sum_error/len(inputs)), i))   \n",
    "        \n",
    "\n",
    "    def _mse(self, target, output):\n",
    "        return np.average((target-output)**2)\n",
    "    \n",
    "    def _sigmoid_derivative(self, x):\n",
    "        return x * (1.0 - x)\n",
    "        \n",
    "    \n",
    "    def _sigmoid(self,x):\n",
    "        return 1/ (1+ np.exp(-x))"
   ]
  },
  {
   "cell_type": "markdown",
   "metadata": {},
   "source": [
    "### Training"
   ]
  },
  {
   "cell_type": "code",
   "execution_count": 173,
   "metadata": {},
   "outputs": [
    {
     "data": {
      "text/plain": [
       "array([0.79381418])"
      ]
     },
     "execution_count": 173,
     "metadata": {},
     "output_type": "execute_result"
    }
   ],
   "source": [
    "#test backpropagate function \n",
    "#create an mlp\n",
    "mlp = MLP(2,[5],1)\n",
    "#create dummy data\n",
    "inputs= np.array([0.1,0.2])\n",
    "target = np.array([0.3])\n",
    "#forward propagation\n",
    "output =mlp.forward_propagate(inputs)\n",
    "output"
   ]
  },
  {
   "cell_type": "code",
   "execution_count": 174,
   "metadata": {},
   "outputs": [
    {
     "name": "stdout",
     "output_type": "stream",
     "text": [
      "Derivatives for W1: [[-0.04197785]\n",
      " [-0.04109672]\n",
      " [-0.04426913]\n",
      " [-0.04294043]\n",
      " [-0.0439249 ]]\n",
      "Derivatives for W0: [[-0.00200177 -0.00045164 -0.00093336 -0.00132001 -0.0004255 ]\n",
      " [-0.00400353 -0.00090328 -0.00186673 -0.00264003 -0.000851  ]]\n"
     ]
    },
    {
     "data": {
      "text/plain": [
       "array([-0.02330815, -0.01778374])"
      ]
     },
     "execution_count": 174,
     "metadata": {},
     "output_type": "execute_result"
    }
   ],
   "source": [
    "#calculate error \n",
    "error = target - output\n",
    "\n",
    "mlp.back_propagate(error, verbose = True)"
   ]
  },
  {
   "cell_type": "code",
   "execution_count": 175,
   "metadata": {},
   "outputs": [
    {
     "name": "stdout",
     "output_type": "stream",
     "text": [
      "Original w0 [[0.28962904 0.00429329 0.66519374 0.60008677 0.78993472]\n",
      " [0.24282953 0.16728521 0.62474632 0.32641771 0.47648135]]\n",
      "Original w1 [[0.99216709]\n",
      " [0.22358177]\n",
      " [0.46616942]\n",
      " [0.65584369]\n",
      " [0.21218291]]\n"
     ]
    }
   ],
   "source": [
    "#apply gradient descent\n",
    "mlp.gradient_descent(lr=1)"
   ]
  },
  {
   "cell_type": "code",
   "execution_count": 185,
   "metadata": {},
   "outputs": [],
   "source": [
    "# train mlp on dummy data\n",
    "from random import random\n",
    "inputs = np.array([[random()/2 for _ in range(2)] for _ in range(1000)])\n",
    "targets = np.array([[i[0] + i[1]] for i in inputs])"
   ]
  },
  {
   "cell_type": "code",
   "execution_count": 186,
   "metadata": {},
   "outputs": [
    {
     "name": "stdout",
     "output_type": "stream",
     "text": [
      "(1000, 2)\n",
      "(1000, 1)\n"
     ]
    }
   ],
   "source": [
    "print(inputs.shape)\n",
    "print(targets.shape)"
   ]
  },
  {
   "cell_type": "code",
   "execution_count": 193,
   "metadata": {},
   "outputs": [
    {
     "name": "stdout",
     "output_type": "stream",
     "text": [
      "Error: 0.04366209858946426 at epoch 0\n",
      "Error: 0.020391732177764493 at epoch 1\n",
      "Error: 0.004274119668779659 at epoch 2\n",
      "Error: 0.0012214577969696838 at epoch 3\n",
      "Error: 0.0006730106476643253 at epoch 4\n",
      "Error: 0.0005512380176952948 at epoch 5\n",
      "Error: 0.0005147460485439905 at epoch 6\n",
      "Error: 0.0004973896842203023 at epoch 7\n",
      "Error: 0.0004850585392775636 at epoch 8\n",
      "Error: 0.00047458796171103015 at epoch 9\n",
      "Error: 0.00046521455170948125 at epoch 10\n",
      "Error: 0.00045670463173131217 at epoch 11\n",
      "Error: 0.00044894248185086967 at epoch 12\n",
      "Error: 0.00044184247198668803 at epoch 13\n",
      "Error: 0.0004353313404208244 at epoch 14\n",
      "Error: 0.0004293446524429053 at epoch 15\n",
      "Error: 0.00042382571308802934 at epoch 16\n",
      "Error: 0.0004187247616086556 at epoch 17\n",
      "Error: 0.0004139981712345201 at epoch 18\n",
      "Error: 0.00040960767903048986 at epoch 19\n",
      "Error: 0.00040551968213724444 at epoch 20\n",
      "Error: 0.00040170461517853443 at epoch 21\n",
      "Error: 0.0003981364090534281 at epoch 22\n",
      "Error: 0.00039479202460825704 at epoch 23\n",
      "Error: 0.00039165105241585987 at epoch 24\n",
      "Error: 0.00038869536972391467 at epoch 25\n",
      "Error: 0.0003859088463344183 at epoch 26\n",
      "Error: 0.00038327709215889327 at epoch 27\n",
      "Error: 0.0003807872402011159 at epoch 28\n",
      "Error: 0.0003784277596476795 at epoch 29\n",
      "Error: 0.00037618829456283935 at epoch 30\n",
      "Error: 0.0003740595243848292 at epoch 31\n",
      "Error: 0.00037203304301504337 at epoch 32\n",
      "Error: 0.0003701012537921693 at epoch 33\n",
      "Error: 0.00036825727806398485 at epoch 34\n",
      "Error: 0.000366494875422303 at epoch 35\n",
      "Error: 0.0003648083739624622 at epoch 36\n",
      "Error: 0.00036319260917705627 at epoch 37\n",
      "Error: 0.0003616428703020674 at epoch 38\n",
      "Error: 0.0003601548531089387 at epoch 39\n",
      "Error: 0.00035872461828376283 at epoch 40\n",
      "Error: 0.0003573485546592412 at epoch 41\n",
      "Error: 0.0003560233466703466 at epoch 42\n",
      "Error: 0.00035474594549358496 at epoch 43\n",
      "Error: 0.0003535135434053054 at epoch 44\n",
      "Error: 0.00035232355095862235 at epoch 45\n",
      "Error: 0.0003511735766330976 at epoch 46\n",
      "Error: 0.0003500614086579065 at epoch 47\n",
      "Error: 0.0003489849987489692 at epoch 48\n",
      "Error: 0.0003479424475346089 at epoch 49\n"
     ]
    }
   ],
   "source": [
    "mlp = MLP(2,[5],1)\n",
    "\n",
    "mlp.train(inputs, targets, 50, 0.1)"
   ]
  },
  {
   "cell_type": "markdown",
   "metadata": {},
   "source": [
    "The idea is we have the train dataset, we create an mlp, we train it and we use it for predictions. After the trai"
   ]
  },
  {
   "cell_type": "code",
   "execution_count": 198,
   "metadata": {},
   "outputs": [
    {
     "name": "stdout",
     "output_type": "stream",
     "text": [
      "\n",
      "\n",
      "Our network believes that 0.3 + 0.1 is equal to 0.385911352814274\n"
     ]
    }
   ],
   "source": [
    "# make predictions on dummy data\n",
    "input = np.array([0.3, 0.1])\n",
    "target = np.array([0.4])\n",
    "output = mlp.forward_propagate(input)\n",
    "print()\n",
    "print()\n",
    "print(\"Our network believes that {} + {} is equal to {}\".format(input[0], input[1],output[0]))"
   ]
  },
  {
   "cell_type": "code",
   "execution_count": null,
   "metadata": {},
   "outputs": [],
   "source": []
  }
 ],
 "metadata": {
  "kernelspec": {
   "display_name": "Python 3",
   "language": "python",
   "name": "python3"
  },
  "language_info": {
   "codemirror_mode": {
    "name": "ipython",
    "version": 3
   },
   "file_extension": ".py",
   "mimetype": "text/x-python",
   "name": "python",
   "nbconvert_exporter": "python",
   "pygments_lexer": "ipython3",
   "version": "3.7.6"
  }
 },
 "nbformat": 4,
 "nbformat_minor": 4
}
